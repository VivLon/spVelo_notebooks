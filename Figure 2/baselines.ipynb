{
 "cells": [
  {
   "cell_type": "code",
   "execution_count": null,
   "id": "65ad4808",
   "metadata": {},
   "outputs": [],
   "source": [
    "import pandas as pd \n",
    "import scanpy as sc\n",
    "import anndata\n",
    "import numpy as np\n",
    "import torch\n",
    "import scvelo as scv\n",
    "import matplotlib.pyplot as plt\n",
    "import seaborn as sns\n",
    "import pickle\n",
    "import argparse\n",
    "import os\n",
    "from sklearn.metrics.pairwise import cosine_similarity\n",
    "from spvelo import *\n",
    "import pytorch_lightning\n",
    "import squidpy as sq\n",
    "from scipy import sparse"
   ]
  },
  {
   "cell_type": "code",
   "execution_count": null,
   "id": "383a02ca",
   "metadata": {},
   "outputs": [],
   "source": [
    "adata = anndata.read_h5ad(\"/gpfs/gibbs/pi/zhao/wl545/spatial_velo_sorted/OSCC/concat_pp_wonc.h5ad\")\n",
    "adata_corrected = anndata.read_h5ad(\"/gpfs/gibbs/pi/zhao/wl545/spatial_velo_sorted/OSCC/scgen_pp_wonc.h5ad\")\n",
    "\n",
    "def create_dir(save_dir):\n",
    "    os.makedirs(save_dir, exist_ok=True)\n",
    "    os.makedirs(save_dir+'/adatas', exist_ok=True)\n",
    "    os.makedirs(save_dir+'/models', exist_ok=True)\n",
    "    \n",
    "save_dir = './results/'\n",
    "create_dir(save_dir)\n",
    "\n",
    "for i in set(adata.obs.batch):\n",
    "    save_dir_perbatch = f'./results/sample{str(i)}'\n",
    "    create_dir(save_dir_perbatch)"
   ]
  },
  {
   "cell_type": "code",
   "execution_count": null,
   "id": "e91d6ba9",
   "metadata": {},
   "outputs": [],
   "source": [
    "from spvelo.run_methods import run_scv_stc\n",
    "setup_seed(0)\n",
    "method_name = 'scvelo_stc'\n",
    "\n",
    "run_scv_stc(adata_corrected, save_name='', save_dir=save_dir, method_name=method_name, \n",
    "            batch_key='batch', ct_key='cluster_annotations')\n",
    "\n",
    "for i in set(adata.obs.batch):\n",
    "    save_dir_perbatch = f'./sample{str(i)}'\n",
    "    bdata = adata[adata.obs.batch==i].copy()\n",
    "    run_scv_stc(bdata, save_name='perbatch', save_dir=save_dir_perbatch, method_name=method_name, \n",
    "                batch_key='batch', ct_key='cluster_annotations')"
   ]
  },
  {
   "cell_type": "code",
   "execution_count": null,
   "id": "2457b11e",
   "metadata": {},
   "outputs": [],
   "source": [
    "from spvelo.run_methods import run_scv_dyn\n",
    "setup_seed(0)\n",
    "method_name = 'scvelo_dyn'\n",
    "\n",
    "run_scv_dyn(adata_corrected, save_name='', save_dir=save_dir, method_name=method_name, \n",
    "            batch_key='batch', ct_key='cluster_annotations')\n",
    "\n",
    "for i in set(adata.obs.batch):\n",
    "    save_dir_perbatch = f'./sample{str(i)}'\n",
    "    bdata = adata[adata.obs.batch==i].copy()\n",
    "    run_scv_dyn(bdata, save_name='perbatch', save_dir=save_dir_perbatch, method_name=method_name, \n",
    "                batch_key='batch', ct_key='cluster_annotations')"
   ]
  },
  {
   "cell_type": "code",
   "execution_count": null,
   "id": "d4cf24f8",
   "metadata": {},
   "outputs": [],
   "source": [
    "from spvelo.run_methods import run_vi\n",
    "setup_seed(0)\n",
    "method_name = 'velovi'\n",
    "\n",
    "run_vi(adata_corrected, save_name='', save_dir=save_dir, method_name=method_name, \n",
    "            batch_key='batch', ct_key='cluster_annotations')\n",
    "\n",
    "for i in set(adata.obs.batch):\n",
    "    save_dir_perbatch = f'./sample{str(i)}'\n",
    "    bdata = adata[adata.obs.batch==i].copy()\n",
    "    run_vi(bdata, save_name='perbatch', save_dir=save_dir_perbatch, method_name=method_name, \n",
    "                batch_key='batch', ct_key='cluster_annotations')"
   ]
  },
  {
   "cell_type": "code",
   "execution_count": null,
   "id": "9532002d",
   "metadata": {},
   "outputs": [],
   "source": [
    "from spvelo.run_methods import run_std_ltv\n",
    "setup_seed(0)\n",
    "method_name = 'latentvelo_std'\n",
    "\n",
    "run_std_ltv(adata, save_name='', save_dir=save_dir, method_name=method_name, \n",
    "            batch_key='batch', ct_key='cluster_annotations')"
   ]
  },
  {
   "cell_type": "code",
   "execution_count": null,
   "id": "a8074c5e",
   "metadata": {},
   "outputs": [],
   "source": [
    "from spvelo.run_methods import run_annot_ltv\n",
    "setup_seed(0)\n",
    "method_name = 'latentvelo_annot'\n",
    "\n",
    "run_std_ltv(adata, save_name='', save_dir=save_dir, method_name=method_name, \n",
    "            batch_key='batch', ct_key='cluster_annotations')"
   ]
  }
 ],
 "metadata": {
  "kernelspec": {
   "display_name": "velo",
   "language": "python",
   "name": "velo"
  },
  "language_info": {
   "codemirror_mode": {
    "name": "ipython",
    "version": 3
   },
   "file_extension": ".py",
   "mimetype": "text/x-python",
   "name": "python",
   "nbconvert_exporter": "python",
   "pygments_lexer": "ipython3",
   "version": "3.9.18"
  },
  "toc": {
   "base_numbering": 1,
   "nav_menu": {},
   "number_sections": true,
   "sideBar": true,
   "skip_h1_title": false,
   "title_cell": "Table of Contents",
   "title_sidebar": "Contents",
   "toc_cell": false,
   "toc_position": {},
   "toc_section_display": true,
   "toc_window_display": false
  }
 },
 "nbformat": 4,
 "nbformat_minor": 5
}
